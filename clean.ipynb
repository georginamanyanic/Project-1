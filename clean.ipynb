{
 "cells": [
  {
   "cell_type": "markdown",
   "id": "66270f52",
   "metadata": {},
   "source": [
    "## Hyphoteses"
   ]
  },
  {
   "cell_type": "markdown",
   "id": "1e237c5f",
   "metadata": {},
   "source": [
    "1. ¿Cuales son los 3/4/5 paises donde  hay más muertes por ataques de tiburones?\n",
    "2. ¿En que estación del año hay más muertes por ataques de tiburones según estos paises?\n",
    "3. ¿En estos países, cuales son las actividades en las que hay más muertos por ataques de tiburon?"
   ]
  },
  {
   "cell_type": "markdown",
   "id": "a32b8512",
   "metadata": {},
   "source": [
    "## Data Cleaning"
   ]
  },
  {
   "cell_type": "code",
   "execution_count": null,
   "id": "73b0d72d",
   "metadata": {},
   "outputs": [],
   "source": [
    "#IMPORTAR LIBRERIAS \n",
    "import pandas as pd\n",
    "import numpy as np\n",
    "import seaborn as sns \n",
    "import matplotlib.pyplot as plt "
   ]
  },
  {
   "cell_type": "code",
   "execution_count": null,
   "id": "d21ad281",
   "metadata": {},
   "outputs": [],
   "source": [
    "path = 'C:/Users/manya/Documents/Ironhack/Course/Project-1/data/attacks.csv'\n",
    "df = pd.read_csv (path, encoding=\"cp1252\")"
   ]
  },
  {
   "cell_type": "code",
   "execution_count": null,
   "id": "54b6b460",
   "metadata": {},
   "outputs": [],
   "source": [
    "df.columns"
   ]
  },
  {
   "cell_type": "code",
   "execution_count": null,
   "id": "d8fe788c",
   "metadata": {},
   "outputs": [],
   "source": [
    "df "
   ]
  },
  {
   "cell_type": "markdown",
   "id": "a8c3fda7",
   "metadata": {},
   "source": []
  },
  {
   "cell_type": "markdown",
   "id": "2eb3471b",
   "metadata": {},
   "source": [
    "Columnas que seguro que borro del df ya que no son relevantes para mi análisis son: \n",
    "- Investigator or Source \n",
    "- pdf\n",
    "- 'Unnamed: 22' y 'Unnamed: 23' ya que la mayoria son valores nulos \n",
    "- href\n",
    "- href formula \n",
    "- Name\n",
    "- Age\n",
    "- Case Number.1 y Case Number.2 -- ya que ya tengo el case number.1\n",
    "- Type\n",
    "- Time\n",
    "- Original order\n",
    "\n",
    "\n",
    "Explorar con más atención injury e species por si quiero hacer alguna hipotesis más."
   ]
  },
  {
   "cell_type": "code",
   "execution_count": null,
   "id": "ca75d784",
   "metadata": {},
   "outputs": [],
   "source": [
    "df.drop(columns = ['Unnamed: 22', 'Unnamed: 23', 'Case Number.1', 'Case Number.2','href', 'href formula', 'pdf', 'Investigator or Source', 'Name', 'Age', 'Type', 'original order', 'Time','Year'],inplace = True)"
   ]
  },
  {
   "cell_type": "code",
   "execution_count": null,
   "id": "9ec86fe0",
   "metadata": {
    "scrolled": true
   },
   "outputs": [],
   "source": [
    "df"
   ]
  },
  {
   "cell_type": "markdown",
   "id": "1b3bb911",
   "metadata": {},
   "source": [
    "Hay muchos valores nulos en todas las columnas llegando a haber muchas filas con todo de valores nulos que no me aportan información. Por lo que dropeo todas las filas que tengan menos de 3 valores no nulos (7 nan) para hacer una primera limpieza. "
   ]
  },
  {
   "cell_type": "code",
   "execution_count": null,
   "id": "10e266b9",
   "metadata": {},
   "outputs": [],
   "source": [
    "df.isna ().sum()"
   ]
  },
  {
   "cell_type": "code",
   "execution_count": null,
   "id": "b57319a5",
   "metadata": {},
   "outputs": [],
   "source": [
    "df.dropna (thresh = 3, inplace = True)\n",
    "df.sample(20)"
   ]
  },
  {
   "cell_type": "code",
   "execution_count": null,
   "id": "d01eefc1",
   "metadata": {},
   "outputs": [],
   "source": [
    "df.isna().sum()"
   ]
  },
  {
   "cell_type": "markdown",
   "id": "995134bd",
   "metadata": {},
   "source": [
    "Después de esta primera limpieza de columnas y filas, le doy el mismo formato a todas las etiquetas de las columnas"
   ]
  },
  {
   "cell_type": "code",
   "execution_count": null,
   "id": "1c44cabb",
   "metadata": {},
   "outputs": [],
   "source": [
    "df.columns = [column.rstrip().rstrip(' (Y/N)').lower().replace(' ', '_') for column in df.columns]\n",
    "df.columns "
   ]
  },
  {
   "cell_type": "markdown",
   "id": "65ceb875",
   "metadata": {},
   "source": [
    "### Para la hipotesis 1: columnas country y fatal"
   ]
  },
  {
   "cell_type": "markdown",
   "id": "3e917604",
   "metadata": {},
   "source": [
    "1. Dropeo los valores nulos tanto de country como fatal"
   ]
  },
  {
   "cell_type": "code",
   "execution_count": null,
   "id": "45a1a4db",
   "metadata": {},
   "outputs": [],
   "source": [
    "df.dropna(subset=['country','fatal'],inplace=True)\n",
    "df"
   ]
  },
  {
   "cell_type": "code",
   "execution_count": null,
   "id": "dfb8a020",
   "metadata": {},
   "outputs": [],
   "source": [
    "df.isna().sum()"
   ]
  },
  {
   "cell_type": "markdown",
   "id": "86526017",
   "metadata": {},
   "source": [
    "2. Limpio los valores de la columna fatal"
   ]
  },
  {
   "cell_type": "code",
   "execution_count": null,
   "id": "c4a8ec17",
   "metadata": {
    "scrolled": true
   },
   "outputs": [],
   "source": [
    "df.fatal.unique()"
   ]
  },
  {
   "cell_type": "code",
   "execution_count": null,
   "id": "29b95109",
   "metadata": {},
   "outputs": [],
   "source": [
    "#Cambio todos los valores por mayusculas y sin espacios\n",
    "#Dropeo del data frame todos los valores que sean '2017', 'M' o 'UNKNOWN'\n",
    "\n",
    "df.fatal = df.fatal.apply (lambda i: i.lstrip().rstrip().upper()) \n",
    "df = df.drop(df[(df['fatal'] == '2017') | (df['fatal'] == 'M') | (df['fatal'] == 'UNKNOWN')].index)"
   ]
  },
  {
   "cell_type": "code",
   "execution_count": null,
   "id": "c69c96fc",
   "metadata": {},
   "outputs": [],
   "source": [
    "df"
   ]
  },
  {
   "cell_type": "markdown",
   "id": "046e99ab",
   "metadata": {},
   "source": [
    "\n",
    "2. Limpio columna country: \n",
    "    - Todos los países en mayuscula\n",
    "    - Borrar si la string contiene OCEAN, PACIFIC, SEA, AFRICA, ASIA ya que no es un país\n",
    "    - Borrar los ? de una string. Ej: RED SEA?\n",
    "    - Borrar si la string contiene Between\n",
    "    - UNITED ARAB EMIRATES (UAE) quedarme con UNITED ARAB EMIRATES \n",
    "    - rstrip y lstrip por si acaso"
   ]
  },
  {
   "cell_type": "code",
   "execution_count": null,
   "id": "3367d022",
   "metadata": {},
   "outputs": [],
   "source": [
    "df.country.unique()"
   ]
  },
  {
   "cell_type": "code",
   "execution_count": null,
   "id": "0f2c1752",
   "metadata": {},
   "outputs": [],
   "source": [
    "df['country']= df['country'].apply (lambda i: i.lstrip().rstrip().upper()) #Mismo formato para todas las strings"
   ]
  },
  {
   "cell_type": "code",
   "execution_count": null,
   "id": "0d97b408",
   "metadata": {},
   "outputs": [],
   "source": [
    "discard = ['OCEAN','PACIFIC','MEDITERRANEAN','RED','BETWEEN','AFRICA','ASIA','/','GULF','NORTHERN ARABIAN','THE BALKANS','NORTH SEA','TASMAN','SOUTH CHINA'] #Substring que quiero identificar  \n",
    "df = df[~df.country.str.contains('|'.join(discard))] #Dropeo aquellas strings que contengan discard"
   ]
  },
  {
   "cell_type": "code",
   "execution_count": null,
   "id": "b9fa6c6a",
   "metadata": {
    "scrolled": true
   },
   "outputs": [],
   "source": [
    "#Borrar los ? del final de la string y el (UAE)\n",
    "#df['country']= df['country'].apply (lambda i: i.removesuffix('(UAE)').removesuffix('?'))"
   ]
  },
  {
   "cell_type": "code",
   "execution_count": null,
   "id": "37b122c2",
   "metadata": {},
   "outputs": [],
   "source": [
    "#CEYLON (SRI LANKA) transformar a SRI LANKA\n",
    "df['country']= df['country'].apply (lambda i: i.split('(')[1].replace(')', '') if (i =='CEYLON (SRI LANKA)'))"
   ]
  },
  {
   "cell_type": "code",
   "execution_count": null,
   "id": "d723341c",
   "metadata": {},
   "outputs": [],
   "source": [
    "df.country.unique()"
   ]
  },
  {
   "cell_type": "code",
   "execution_count": null,
   "id": "c7de575d",
   "metadata": {},
   "outputs": [],
   "source": [
    "df"
   ]
  },
  {
   "cell_type": "markdown",
   "id": "fb08fe57",
   "metadata": {},
   "source": [
    "## Cuando termine de limpiar las columnas de la primera hipotesis subir a github"
   ]
  },
  {
   "cell_type": "code",
   "execution_count": null,
   "id": "9aae53be",
   "metadata": {},
   "outputs": [],
   "source": []
  },
  {
   "cell_type": "code",
   "execution_count": null,
   "id": "bbb7f1fd",
   "metadata": {},
   "outputs": [],
   "source": []
  },
  {
   "cell_type": "code",
   "execution_count": null,
   "id": "55130267",
   "metadata": {},
   "outputs": [],
   "source": []
  },
  {
   "cell_type": "code",
   "execution_count": null,
   "id": "172c3b31",
   "metadata": {},
   "outputs": [],
   "source": []
  },
  {
   "cell_type": "markdown",
   "id": "90fe4a9f",
   "metadata": {},
   "source": [
    "### Para la hipotesis 3: limpiar columna activity"
   ]
  },
  {
   "cell_type": "code",
   "execution_count": null,
   "id": "70ba0818",
   "metadata": {},
   "outputs": [],
   "source": [
    "#df.activity.isna().sum()"
   ]
  },
  {
   "cell_type": "code",
   "execution_count": null,
   "id": "650e11d0",
   "metadata": {},
   "outputs": [],
   "source": [
    "#df.dropna(subset=['activity'],inplace=True)\n",
    "#df"
   ]
  },
  {
   "cell_type": "code",
   "execution_count": null,
   "id": "967c70fe",
   "metadata": {},
   "outputs": [],
   "source": []
  },
  {
   "cell_type": "code",
   "execution_count": null,
   "id": "4cd00d4c",
   "metadata": {},
   "outputs": [],
   "source": []
  },
  {
   "cell_type": "code",
   "execution_count": null,
   "id": "d1fbe64a",
   "metadata": {},
   "outputs": [],
   "source": []
  }
 ],
 "metadata": {
  "kernelspec": {
   "display_name": "Python 3 (ipykernel)",
   "language": "python",
   "name": "python3"
  },
  "language_info": {
   "codemirror_mode": {
    "name": "ipython",
    "version": 3
   },
   "file_extension": ".py",
   "mimetype": "text/x-python",
   "name": "python",
   "nbconvert_exporter": "python",
   "pygments_lexer": "ipython3",
   "version": "3.9.13"
  }
 },
 "nbformat": 4,
 "nbformat_minor": 5
}
